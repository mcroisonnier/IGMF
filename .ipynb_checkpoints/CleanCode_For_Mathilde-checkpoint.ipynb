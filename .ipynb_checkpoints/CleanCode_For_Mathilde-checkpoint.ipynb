{
 "cells": [
  {
   "cell_type": "markdown",
   "id": "41075644-af2d-4b05-9982-befbcc00cb8d",
   "metadata": {},
   "source": [
    "# IMPORT MODULES"
   ]
  },
  {
   "cell_type": "code",
   "execution_count": 1,
   "id": "904401ad-6561-4e22-ad9f-42069502e7cc",
   "metadata": {},
   "outputs": [],
   "source": [
    "%matplotlib inline\n",
    "import matplotlib.pyplot as plt\n",
    "import numpy as np\n",
    "\n",
    "from scipy  import integrate\n",
    "import astropy.units as u\n",
    "import glob\n",
    "from scipy.optimize import minimize\n",
    "from gammapy.stats.fit_statistics import wstat, cash\n",
    "import matplotlib\n",
    "\n",
    "\n",
    "plt.rc('xtick', labelsize=20)   \n",
    "plt.rc('ytick', labelsize=20)\n",
    "plt.rc('text', usetex=True)\n",
    "plt.rc('font', family='serif',size=25)"
   ]
  },
  {
   "cell_type": "markdown",
   "id": "a8b9cec3-d5e9-4f5d-940d-a805f10335f9",
   "metadata": {},
   "source": [
    "## Import some Gammapy function:\n",
    "- Observation\n",
    "- Spectral models\n",
    "### This code was based on gammapy v0.19"
   ]
  },
  {
   "cell_type": "code",
   "execution_count": 2,
   "id": "d33377c5-8a14-4c12-9b37-627b61d20a1c",
   "metadata": {},
   "outputs": [
    {
     "name": "stdout",
     "output_type": "stream",
     "text": [
      "None\n"
     ]
    }
   ],
   "source": [
    "from gammapy.data import Observation, Observations\n",
    "from gammapy.modeling.models import (\n",
    "    EBLAbsorptionNormSpectralModel,\n",
    "    PowerLawSpectralModel,\n",
    "    SpectralModel,\n",
    "    ExpCutoffPowerLawSpectralModel,\n",
    "    LogParabolaSpectralModel,\n",
    "    TemplateSpectralModel\n",
    ")\n",
    "\n",
    "import os\n",
    "print(os.getenv(\"GAMMAPY_DATA\"))\n",
    "os.environ[\"GAMMAPY_DATA\"] = \"/fefs/aswg/workspace/mathilde.croisonnier/Omega_Centauri/gammapy-datasets/1.0/\"\n"
   ]
  },
  {
   "cell_type": "markdown",
   "id": "f2af86b5-e851-4bf3-b1be-f31c8454f120",
   "metadata": {},
   "source": [
    "# Custom functions"
   ]
  },
  {
   "cell_type": "markdown",
   "id": "dd5819d3-5803-42dc-991b-e65c31feb5c3",
   "metadata": {},
   "source": [
    "### get_IRF_factors"
   ]
  },
  {
   "cell_type": "code",
   "execution_count": 3,
   "id": "0b1dddb8-3e4e-4056-9a8a-bca1fc576988",
   "metadata": {},
   "outputs": [],
   "source": [
    "def get_IRF_factors(observation, ereco, etrue,offset, mask_migra):\n",
    "    \"\"\"\n",
    "    Calculates the factors of the instrument response function (IRF) for a given observation.\n",
    "\n",
    "    Parameters:\n",
    "    observation (object): Gammapy Observation object.\n",
    "    ereco (array): Array of reconstructed energy values.\n",
    "    etrue (array): Array of true energy values.\n",
    "    mask_migra (array): Boolean mask for energy migration.\n",
    "\n",
    "    Returns:\n",
    "    array: IRF factors array.\n",
    "    \"\"\"\n",
    "\n",
    "    # Get the 2D energy dispersion and normalize it\n",
    "    edisp2D = observation.edisp\n",
    "    edisp2D.normalize()\n",
    "\n",
    "    # Calculate the edisp matrix\n",
    "    ereco = ereco[:, None]\n",
    "    edisp = edisp2D.evaluate(offset=offset, energy_true=etrue, migra=ereco/etrue) / etrue\n",
    "    edisp      = edisp * mask_migra\n",
    "    \n",
    "    aeff       = observation.aeff.evaluate( energy_true=etrue[None,:])\n",
    "    aeff       = aeff * mask_migra\n",
    "    \n",
    "    IRF        = aeff  * edisp \n",
    "\n",
    "    return IRF"
   ]
  },
  {
   "cell_type": "markdown",
   "id": "57be18ca-650d-4fad-8338-e44e6f959c38",
   "metadata": {},
   "source": [
    "### integrate_over_each_range"
   ]
  },
  {
   "cell_type": "code",
   "execution_count": 4,
   "id": "2cc9be04-090e-47fb-84ed-d54f46371af0",
   "metadata": {},
   "outputs": [],
   "source": [
    "# this function is used for performing the numerical integration over  E' of G(E,E')\n",
    "def integrate_over_each_range(integrand, bins, Delta):\n",
    "    \"\"\"\n",
    "    Integrate a given integrand over specified ranges.\n",
    "\n",
    "    This function performs numerical integration of a provided integrand array over\n",
    "    each sub-interval defined by `Delta` within the `bins`. Integration is carried\n",
    "    out using Simpson's rule.\n",
    "\n",
    "    Parameters:\n",
    "    integrand (np.ndarray): The values to be integrated. Assumed to be a 3D array,\n",
    "                            with the integration performed along the second axis.\n",
    "    bins (np.ndarray): The x-values corresponding to the integrand. These are the\n",
    "                       points at which the integrand has been evaluated.\n",
    "    Delta (np.ndarray): The edges of the sub-intervals over which to integrate.\n",
    "                        Must be sorted in ascending order.\n",
    "\n",
    "    Returns:\n",
    "    np.ndarray: An array of integrated values for each sub-interval defined in `Delta`.\n",
    "\n",
    "    Example:\n",
    "    >>> integrand = np.random.rand(10, 100, 5)  # For example purposes\n",
    "    >>> bins = np.linspace(0, 10, 100)  # x-values where integrand is evaluated\n",
    "    >>> Delta = np.array([1, 3, 5, 7])  # Edges of sub-intervals\n",
    "    >>> integrate_over_each_range(integrand, bins, Delta)\n",
    "    array([...])  # Returns an array of integrated values\n",
    "    \"\"\"\n",
    "    \n",
    "    # axis = 1, when integrating E_prime in the first step\n",
    "    axis = 1\n",
    "    # Find the indices in bins that match the edges in Delta\n",
    "    indices = np.searchsorted(bins, Delta)\n",
    "    \n",
    "    # Initialize an array to store the results of the integration over each range\n",
    "    integrals = []\n",
    "\n",
    "    # Iterate over the ranges defined by Delta\n",
    "    for i in range(len(Delta)-1):\n",
    "        # Define the start and end index for the current range\n",
    "        start_idx = indices[i]\n",
    "        end_idx = indices[i+1]\n",
    "        \n",
    "        # Extract the integrand values and corresponding bins for the current range\n",
    "        y_values = integrand[:, start_idx:end_idx, :]\n",
    "        x_values = bins[start_idx:end_idx]\n",
    "        \n",
    "        # Compute the integral for the current range using Simpson's rule\n",
    "        integral = integrate.simpson(y_values, x=x_values, axis=axis)\n",
    "        integrals.append(integral)\n",
    "\n",
    "    return np.array(integrals)\n",
    "\n",
    "\n",
    "\n"
   ]
  },
  {
   "cell_type": "markdown",
   "id": "f1839499-2cd8-4860-a741-c928db870dd3",
   "metadata": {},
   "source": [
    "### step_function_integral"
   ]
  },
  {
   "cell_type": "code",
   "execution_count": 5,
   "id": "6b8e5f6a-eef1-418c-8233-8e3d2dad2c77",
   "metadata": {},
   "outputs": [],
   "source": [
    "# this function is needed for performing the integeral over time and get the \"time migration\" matrix\n",
    "def step_function_integral(a, b, a_prime, b_prime):\n",
    "    \"\"\"\n",
    "    Calculate the integral of a step function over specified intervals.\n",
    "\n",
    "    This function computes the integral of a step function that is 1 within the\n",
    "    intervals defined by vectors a and b, and 0 otherwise, over another set of\n",
    "    intervals defined by a_prime and b_prime. The function handles vectorized inputs\n",
    "    and computes the overlap of each pair of intervals from the two sets.\n",
    "\n",
    "    Parameters:\n",
    "    a (np.ndarray): A 1D array of start points of the intervals where the step function is 1.\n",
    "    b (np.ndarray): A 1D array of end points of the intervals where the step function is 1.\n",
    "                    Must be the same shape as a.\n",
    "    a_prime (np.ndarray): A 2D array of start points of the intervals over which to integrate.\n",
    "    b_prime (np.ndarray): A 2D array of end points of the intervals over which to integrate.\n",
    "                          Must be the same shape as a_prime.\n",
    "\n",
    "    Returns:\n",
    "    np.ndarray: A 3D array of the integral of the step function over each interval defined by\n",
    "                a_prime and b_prime. The shape of the output array is based on the broadcasting\n",
    "                rules applied to the input shapes.\n",
    "\n",
    "    Example:\n",
    "    >>> a = np.array([0, 5])\n",
    "    >>> b = np.array([3, 10])\n",
    "    >>> a_prime = np.array([[1, 6], [4, 8]])\n",
    "    >>> b_prime = np.array([[2, 7], [5, 9]])\n",
    "    >>> step_function_integral(a, b, a_prime, b_prime)\n",
    "    array([[[ 1,  1],\n",
    "            [ 0,  2]],\n",
    "\n",
    "           [[ 2,  3],\n",
    "            [ 1,  2]]])\n",
    "    \"\"\"\n",
    "    \n",
    "    # Ensure inputs are numpy arrays for vectorized operations\n",
    "    a = np.asarray(a)\n",
    "    b = np.asarray(b)\n",
    "    a_prime = np.asarray(a_prime)\n",
    "    b_prime = np.asarray(b_prime)\n",
    "    \n",
    "    # Calculate the overlap between [a, b] and [a_prime, b_prime] using broadcasting\n",
    "    overlap_start = np.maximum(a[None,None,:], a_prime[:,:,None])\n",
    "    overlap_end = np.minimum(b[None,None,:], b_prime[:,:,None])\n",
    "\n",
    "    # The result is the positive length of the overlap, or 0 where there is no overlap\n",
    "    overlap_length = np.maximum(0, overlap_end - overlap_start)\n",
    "\n",
    "    return overlap_length\n"
   ]
  },
  {
   "cell_type": "markdown",
   "id": "2955acb6-6117-4124-8b3a-c5ad91866f13",
   "metadata": {},
   "source": [
    "# Class"
   ]
  },
  {
   "cell_type": "markdown",
   "id": "3ab77952-44a0-4d78-ad1a-bfe43d1fc846",
   "metadata": {},
   "source": [
    "### TimeDelay_Binned_Likelihood "
   ]
  },
  {
   "cell_type": "code",
   "execution_count": 6,
   "id": "dd0077a5-998d-4e12-a8c2-afa0371263a2",
   "metadata": {},
   "outputs": [],
   "source": [
    "#This is the only custom Class needed for the analysis\n",
    "\n",
    "class TimeDelay_Binned_Likelihood:\n",
    "    \"\"\"\n",
    "    This class is designed to handle the calculation of a binned signal for Lorentz Invariance Violation (LIV) studies.\n",
    "    \n",
    "    It includes methods for setting up the energy and time bins, computing the instrument response function (IRF),\n",
    "    performing the minimization of a log-likelihood function, and calculating the expected counts based on a\n",
    "    spectral model modified by an EBL model.\n",
    "    \n",
    "    Parameters:\n",
    "    -----------\n",
    "    E_prime : astropy.units.Quantity\n",
    "        Reconstructed (observed) energy bins.\n",
    "    t : astropy.units.Quantity\n",
    "        True (intrinsic) time bins.\n",
    "    t_prime : astropy.units.Quantity\n",
    "        Observed (measured) time bins.\n",
    "    spectral_model : callable\n",
    "        Spectral model function.\n",
    "    EBL_model : callable\n",
    "        Extragalactic Background Light (EBL) model function.\n",
    "    all_observations : list\n",
    "        List containing observation data, including IRF information.\n",
    "    n_on : array-like, optional\n",
    "        Number of on-source counts (signal + background).\n",
    "    n_off : array-like, optional\n",
    "        Number of off-source counts (background only).\n",
    "    alpha : array-like, optional\n",
    "        Ratio of exposure times for on-source and off-source observations.\n",
    "        \n",
    "    Attributes:\n",
    "    -----------\n",
    "    energy_unit : astropy.units.Quantity\n",
    "        Energy unit (GeV).\n",
    "    time_unit : astropy.units.Quantity\n",
    "        Time unit (seconds).\n",
    "    length_unit : astropy.units.Quantity\n",
    "        Length unit (cm).\n",
    "    IRF_unit : astropy.units.Quantity\n",
    "        Instrument response function unit.\n",
    "    phi_unit : astropy.units.Quantity\n",
    "        Flux unit.\n",
    "\n",
    "    Methods:\n",
    "    --------\n",
    "    update_eta(eta):\n",
    "        Update the parameter eta and compute delta_t_ik.\n",
    "    minimize_loglkl(guess, bounds):\n",
    "        Minimize the log likelihood function.\n",
    "    compute_loglkl(SED_pars):\n",
    "        Compute the log likelihood using the expected counts.\n",
    "    compute_expected_counts(SED_pars):\n",
    "        Compute the expected counts.\n",
    "    step_function_flux(SED_pars):\n",
    "        Compute the flux using the spectral model.\n",
    "    get_IRF():\n",
    "        Compute the instrument response function.\n",
    "    get_E_bins_and_migra():\n",
    "        Compute the energy bins and migra values.\n",
    "    \"\"\"\n",
    "    \n",
    "    def __init__(self, E_prime, t, t_prime, spectral_model, EBL_model, all_observations, n_on=None, n_off=None, alpha=None):\n",
    "        \"\"\"Initialize class variables and compute initial binning.\"\"\"\n",
    "        \n",
    "        # Observed data: IRF and counts\n",
    "        self.n_on, self.n_off, self.alpha = n_on, n_off, alpha  \n",
    "        self.all_observations             = all_observations   \n",
    "        \n",
    "        # Model: flux and EBL\n",
    "        self.spectral_model = spectral_model\n",
    "        self.EBL_model      = EBL_model\n",
    "        \n",
    "        # Define units\n",
    "        self.energy_unit = u.GeV\n",
    "        self.time_unit   = u.s\n",
    "        self.length_unit = u.cm\n",
    "        self.IRF_unit    = self.length_unit**2 / self.energy_unit \n",
    "        self.phi_unit    = (self.time_unit * self.length_unit**2 * self.energy_unit)**(-1)\n",
    "        \n",
    "        # Convert the provided energies and times to the defined units\n",
    "        self.E_prime_J     = E_prime.to(self.energy_unit).value\n",
    "        self.t             = t.to(self.time_unit).value\n",
    "        self.t_prime       = t_prime.to(self.time_unit).value\n",
    "        \n",
    "        # Define left and right edges of observed and true time bins\n",
    "        self.t_prime_left  = self.t_prime[:-1]\n",
    "        self.t_prime_right = self.t_prime[1:]\n",
    "        self.t_left        = self.t_prime[:-1]\n",
    "        self.t_right       = self.t_prime[1:]\n",
    "        \n",
    "        # Refine energy bins for numerical integration (geometric binning)\n",
    "        self.refinement_factor_geom_binning    = 20  # Refinement factor for bins used for numerical integration, so that in each bin we have 20 more bins that can be used for the integration\n",
    "        self.number_of_E_prime_bins = len(self.E_prime_J) - 1\n",
    "        self.E_prime_j                    = np.geomspace(self.E_prime_J[0], self.E_prime_J[-1],\n",
    "                                         self.number_of_E_prime_bins * self.refinement_factor_geom_binning + 1)\n",
    "        \n",
    "        # Define the mid-points of the bins for the actual calculation\n",
    "        self.E_prime_j_mid = np.sqrt(self.E_prime_j[:-1] * self.E_prime_j[1:])\n",
    "        \n",
    "        # Obtain the binning in true E using the IRF in observations\n",
    "        self.get_E_j_and_migra()\n",
    "        \n",
    "        # Integrate IRF over each energy bin\n",
    "        self.get_IRF()  #self.IRF_grid has shape (E, E',t')\n",
    "        self.G_j_Iprime_Jprime = integrate_over_each_range(self.IRF_grid, self.E_prime_j_mid, self.E_prime_J)  # G has shape (E', E,t')\n",
    "        \n",
    "    def update_eta(self,eta):\n",
    "        \"\"\"\n",
    "        Update the parameter eta.\n",
    "\n",
    "        Parameters:\n",
    "        -----------\n",
    "        eta : astropy.units.Quantity\n",
    "            The parameter eta in units of (time unit / energy unit).\n",
    "        \"\"\"\n",
    "        self.eta                             = eta.to( self.time_unit/self.energy_unit).value\n",
    "        \n",
    "        # Compute the matrix \\Delta t_{ik} (E, eta)\n",
    "        self.Delta_I_Iprime_j = step_function_integral( self.t_prime_left, self.t_prime_right,\n",
    "                       self.t_left[None,:] + self.eta*self.E_j_mid[:,None],\n",
    "                       self.t_right[None,:] + self.eta*self.E_j_mid[:,None],\n",
    "                           )        # shape: E, t, t'\n",
    "\n",
    "        \n",
    "        self.G_Delta_j_I_Iprime_Jprime = self.G_j_Iprime_Jprime[:,:,None,:] * self.Delta_I_Iprime_j[None,:,:,:]   # shape: E',E, t, t'\n",
    "        \n",
    "    \n",
    "    def minimize_loglkl(self,guess, bounds):\n",
    "        \"\"\"\n",
    "        Minimize the log likelihood function.\n",
    "\n",
    "        Parameters:\n",
    "        -----------\n",
    "        guess : ndarray\n",
    "            Initial guess for the parameters.\n",
    "        bounds : list of tuples\n",
    "            Bounds for parameter values.\n",
    "\n",
    "        Returns:\n",
    "        --------\n",
    "        None\n",
    "        \"\"\"\n",
    "        self.solution = minimize(self.compute_loglkl, guess, bounds= bounds , method='L-BFGS-B',\n",
    "                   options={'maxfun': 1000000,  'gtol': 1e-8}) \n",
    "        if self.solution.success:\n",
    "            self.loglkl_min = self.solution.fun\n",
    "            print(\"Minimum value for -2 log(Lkl) :\", self.loglkl_min)\n",
    "        else:\n",
    "            print(\"Optimization failed:\", self.solution.message)\n",
    "\n",
    "        \n",
    "    \n",
    "    \n",
    "    def compute_loglkl(self,SED_pars):\n",
    "        \"\"\"\n",
    "        Compute the log likelihood using the expected counts.\n",
    "\n",
    "        Parameters:\n",
    "        -----------\n",
    "        SED_pars : ndarray\n",
    "            Parameters for the spectral energy distribution.\n",
    "\n",
    "        Returns:\n",
    "        --------\n",
    "        loglkl : float\n",
    "            The value of the log likelihood.\n",
    "        \"\"\"\n",
    "        self.compute_expected_counts( SED_pars )\n",
    "        return np.sum( wstat(n_on = self.n_on, n_off=self.n_off, alpha= self.alpha, mu_sig=self.expected_signal) )\n",
    "    \n",
    "    def compute_expected_counts(self, SED_pars):\n",
    "        \"\"\"\n",
    "        Compute the expected counts.\n",
    "\n",
    "        Parameters:\n",
    "        -----------\n",
    "        SED_pars : ndarray\n",
    "            Parameters for the spectral energy distribution.\n",
    "\n",
    "        Returns:\n",
    "        --------\n",
    "        None\n",
    "        \"\"\"\n",
    "        # shape: E',E, t, t'\n",
    "        self.Phi_j_I        = self.step_function_flux(SED_pars)  \n",
    "        self.sum_over_I      = np.sum( self.Phi_j_I[None,:,:,None]*self.G_Delta_j_I_Iprime_Jprime, axis=2) \n",
    "        self.expected_signal = integrate.simpson(self.sum_over_I , x=self.E_j_mid, axis=1)\n",
    "         \n",
    "    def step_function_flux(self, SED_pars):\n",
    "        \"\"\"\n",
    "        Compute the flux using the spectral model.\n",
    "\n",
    "        Parameters:\n",
    "        -----------\n",
    "        SED_pars : ndarray\n",
    "            Parameters for the spectral energy distribution.\n",
    "\n",
    "        Returns:\n",
    "        --------\n",
    "        flux : ndarray\n",
    "            Flux values in phi_unit.\n",
    "        \"\"\"\n",
    "        \n",
    "        if len(SED_pars) == len(self.t_left):\n",
    "            # this mean that the user is only letting the amplitude to vary\n",
    "            A_k     = SED_pars\n",
    "            _alpha   = 2.1267e+00 \n",
    "            beta     = 1.1481e-01  \n",
    "        else:\n",
    "            # this mean that the user is also letting the alpha and beta to vary\n",
    "            A_k     = SED_pars[:-2]\n",
    "            _alpha  = SED_pars[-2]\n",
    "            beta    = SED_pars[-1]\n",
    "        E0      = 202.82 *u.GeV   #2.0200e+02   \n",
    "        ampl    = 7.0885e-09 / (u.cm**2 *u.s * u.TeV)\n",
    "        SED     = self.spectral_model( amplitude=ampl , reference=E0, alpha=_alpha, beta=beta)\n",
    "        SED_EBL = SED * self.EBL_model\n",
    "        flux    =  A_k[None,:]* SED_EBL(self.E_j_mid*self.energy_unit)[:,None]\n",
    "        return     flux.to(self.phi_unit).value\n",
    "        \n",
    "    def get_IRF(self,):\n",
    "        \"\"\"\n",
    "        Compute the instrument response function.\n",
    "\n",
    "        Returns:\n",
    "        --------\n",
    "        None\n",
    "        \"\"\"\n",
    "        IRF  = np.array( [get_IRF_factors(\n",
    "                            observation = obs, \n",
    "                            ereco       = self.E_prime_j_mid*self.energy_unit, \n",
    "                            etrue       = self.E_j_mid*self.energy_unit, \n",
    "                            offset      = 0.4*u.deg,\n",
    "                            mask_migra  = self.mask_migra ).to( self.IRF_unit ).value \n",
    "                          \n",
    "                            for obs in self.all_observations]) \n",
    "        # FOR NOW WE ASSUME IRF CONSTANT IN TIME\n",
    "        self.IRF_grid = IRF.mean(axis=0).T[:,:,None] #self.IRF_grid has shape (E, E',t')\n",
    "        \n",
    "    def get_E_j_and_migra(self,):\n",
    "        \"\"\"\n",
    "        Compute the energy bins and migra values.\n",
    "\n",
    "        Returns:\n",
    "        --------\n",
    "        None\n",
    "        \"\"\"\n",
    "        number_points_true_energy = 200\n",
    "        # Get migra min and max values\n",
    "        all_migra       = np.array([obs.edisp.axes['migra'].bounds.value for obs in self.all_observations])\n",
    "        migra_min       = np.min(all_migra[:, 0])\n",
    "        migra_max       = np.max(all_migra[:, 1])\n",
    "        # Define the bin edges and  mid-points for E \n",
    "        self.E_j        = np.geomspace(self.E_prime_j[0] / migra_max, self.E_prime_j[-1] / migra_min,number_points_true_energy )\n",
    "        self.E_j_mid    = np.sqrt(self.E_j[:-1] * self.E_j[1:])\n",
    "        # Compute  mask_migra\n",
    "        etrue_min       = self.E_prime_j_mid[:, None] / migra_max\n",
    "        etrue_max       = self.E_prime_j_mid[:, None] / migra_min\n",
    "        self.mask_migra = (self.E_j_mid[None, :] >= etrue_min) * (self.E_j_mid[None, :] <= etrue_max)\n",
    "        \n",
    "        \n",
    "        \n",
    "\n",
    "        "
   ]
  },
  {
   "cell_type": "markdown",
   "id": "9ca8ebd2-266b-49c4-8e82-94d4ced23924",
   "metadata": {},
   "source": [
    "# Analysis"
   ]
  },
  {
   "cell_type": "markdown",
   "id": "7e88c65f-de77-4e32-b31f-2f901dc0a297",
   "metadata": {},
   "source": [
    "## Import observation"
   ]
  },
  {
   "cell_type": "code",
   "execution_count": 7,
   "id": "bee5d5bc-40c1-4bc6-a6c7-9a950d219807",
   "metadata": {},
   "outputs": [
    {
     "name": "stdout",
     "output_type": "stream",
     "text": [
      "../../lst-school/DL3/Mrk421/dl3_LST-1.Run17209.fits.gz\n",
      "../../lst-school/DL3/Mrk421/dl3_LST-1.Run17210.fits.gz\n",
      "../../lst-school/DL3/Mrk421/dl3_LST-1.Run17211.fits.gz\n"
     ]
    }
   ],
   "source": [
    "all_obs = []\n",
    "for run in sorted(glob.glob(\"../../lst-school/DL3/Mrk421/dl3_LST-1.Run*.fits.gz\")):\n",
    "#for run in sorted(glob.glob( \"./DL3_files/20*fits\")):\n",
    "    print(run)\n",
    "    obs = Observation.read(run)\n",
    "    all_obs.append(obs)"
   ]
  },
  {
   "cell_type": "code",
   "execution_count": 8,
   "id": "9cf6baf5-676a-4af6-ab20-f21ad605aa48",
   "metadata": {},
   "outputs": [
    {
     "data": {
      "text/plain": [
       "[<gammapy.data.observations.Observation at 0x7f0a33e6abd0>,\n",
       " <gammapy.data.observations.Observation at 0x7f0a34762b10>,\n",
       " <gammapy.data.observations.Observation at 0x7f0a33e4ec90>]"
      ]
     },
     "execution_count": 8,
     "metadata": {},
     "output_type": "execute_result"
    }
   ],
   "source": [
    "all_obs\n",
    "#add reconstructed binning and store observation in gammapy, where you can extract on and off counts "
   ]
  },
  {
   "cell_type": "markdown",
   "id": "73b10ee2-7b0b-4674-a7ca-13db94df44f4",
   "metadata": {},
   "source": [
    "## Get counts (I have already computed those and saved in a npy array)"
   ]
  },
  {
   "cell_type": "code",
   "execution_count": 9,
   "id": "1625cdfd-21da-4fe9-92e2-44775292ddeb",
   "metadata": {},
   "outputs": [
    {
     "name": "stdout",
     "output_type": "stream",
     "text": [
      "60 60\n"
     ]
    }
   ],
   "source": [
    "n_on  = np.load(\"results/ON_counts.npy\")\n",
    "n_off = np.load(\"results/OFF_counts.npy\") \n",
    "\n",
    "alpha = 1/3\n",
    "print(n_off.size, n_on.size)"
   ]
  },
  {
   "cell_type": "markdown",
   "id": "a890ff6b-cd8d-4088-ab4f-b61255e7b6de",
   "metadata": {},
   "source": [
    "## Define binning in reco energy and time \n",
    "## (bins must the same used for getting the ON and OFF counts)"
   ]
  },
  {
   "cell_type": "code",
   "execution_count": 10,
   "id": "21ededfd-04cb-4e18-b7a4-f9355ad77ea7",
   "metadata": {},
   "outputs": [],
   "source": [
    "# This binning in unifor: only bins ghave same size\n",
    "# In principle one can try different bins, indeed in the paper we studied how the resul change by using different binning|\n",
    "t_prime_left  = np.array([0, 118.25297, 236.50594, 354.7589, 473.01187, 591.26484, 709.51781, 827.77078, 946.02374, 1064.2767, \n",
    "          1182.5297, 1300.7826, 1419.0356, 1537.2886, 1655.5416, 1773.7945, 1892.0475, 2010.3005, 2128.5534, \n",
    "          2246.8064, 2365.0594, 2483.3123, 2601.5653, 2719.8183, 2838.0712, 2956.3242, 3074.5772, 3192.8301, \n",
    "          3311.0831, 3429.3361, 3547.589, 3665.842, 3784.095, 3902.3479, 4020.6009, 4138.8539, 4257.1068, \n",
    "          4375.3598, 4493.6128, 4611.8657, 4730.1187, 4848.3717, 4966.6247, 5084.8776, 5203.1306, 5321.3836, \n",
    "          5439.6365, 5557.8895, 5676.1425, 5794.3954, 5912.6484, 6030.9014, 6149.1543, 6267.4073, 6385.6603, \n",
    "          6503.9132, 6622.1662, 6740.4192, 6858.6721, 6976.9251, 7095.1781, 7213.431, 7331.684, 7449.937, 7568.1899, \n",
    "          7686.4429, 7804.6959, 7922.9489, 8041.2018])*u.s\n",
    "\n",
    "t_prime_right = np.array( [ 118.25297, 236.50594, 354.7589, 473.01187, 591.26484, 709.51781, 827.77078, 946.02374, 1064.2767,\n",
    "                       1182.5297, 1300.7826, 1419.0356, 1537.2886, 1655.5416, 1773.7945, 1892.0475, 2010.3005, 2128.5534,\n",
    "                       2246.8064, 2365.0594, 2483.3123, 2601.5653, 2719.8183, 2838.0712, 2956.3242, 3074.5772, 3192.8301,\n",
    "                       3311.0831, 3429.3361, 3547.589, 3665.842, 3784.095, 3902.3479, 4020.6009, 4138.8539, 4257.1068, \n",
    "                       4375.3598, 4493.6128, 4611.8657, 4730.1187, 4848.3717, 4966.6247, 5084.8776, 5203.1306, 5321.3836,\n",
    "                       5439.6365, 5557.8895, 5676.1425, 5794.3954, 5912.6484, 6030.9014, 6149.1543, 6267.4073, 6385.6603,\n",
    "                       6503.9132, 6622.1662, 6740.4192, 6858.6721, 6976.9251, 7095.1781, 7213.431, 7331.684, 7449.937, \n",
    "                       7568.1899, 7686.4429, 7804.6959, 7922.9489, 8041.2018, 8159.4548])*u.s\n",
    "\n",
    "#t_prime = np.append( t_prime_left, t_prime_right[-1] ) \n",
    "t_prime = np.linspace(0*u.s, 1300*u.s, 7 ) \n",
    "\n",
    "# Binning in observed and intrinsic time is the same (but can be different in principle)\n",
    "t = np.linspace(0*u.s, 1300*u.s, 7 ) \n",
    "        \n",
    "    \n",
    "# Binning in time\n",
    "E_prime = np.geomspace(  30*u.GeV, 10*u.TeV, 11)"
   ]
  },
  {
   "cell_type": "markdown",
   "id": "e2a827f0-b019-4604-96a5-f1a044c2a3a6",
   "metadata": {},
   "source": [
    "# Run minimization over $F_I$ for different $\\eta$"
   ]
  },
  {
   "cell_type": "code",
   "execution_count": 11,
   "id": "bdfb8f51-e9ed-45ed-98e9-1cac7071ef63",
   "metadata": {},
   "outputs": [],
   "source": [
    "z           = 0.03\n",
    "dominguez   = EBLAbsorptionNormSpectralModel.read_builtin(\"dominguez\", redshift=z)\n",
    "\n",
    "#E_prime_min  = 100*u.GeV,     E_prime_max   = 10*u.TeV,        number_of_bins_in_E_prime=11,\n",
    "\n",
    "LIV_class = TimeDelay_Binned_Likelihood(\n",
    "            \n",
    "            #BINNING\n",
    "            E_prime = E_prime,\n",
    "            t       = t,     \n",
    "            t_prime = t_prime,\n",
    "    \n",
    "            # Spectral model\n",
    "            spectral_model   = LogParabolaSpectralModel,\n",
    "            EBL_model        = dominguez,\n",
    "\n",
    "            # IRF\n",
    "            all_observations = all_obs,\n",
    "    \n",
    "            # OBSERVED COUNTS\n",
    "            n_on = n_on.T,\n",
    "            n_off = n_off.T,\n",
    "            alpha = alpha   \n",
    ")"
   ]
  },
  {
   "cell_type": "code",
   "execution_count": 12,
   "id": "b16a7045-8c1d-4d36-a15d-df046f1764b4",
   "metadata": {},
   "outputs": [
    {
     "name": "stdout",
     "output_type": "stream",
     "text": [
      "Minimum value for -2 log(Lkl) : 1008.1133911282373\n",
      "Minimum value for -2 log(Lkl) : 1008.4367938901635\n",
      "Minimum value for -2 log(Lkl) : 1008.8825142810615\n",
      "Minimum value for -2 log(Lkl) : 1009.4274181885087\n",
      "Minimum value for -2 log(Lkl) : 1010.0335385205649\n",
      "Minimum value for -2 log(Lkl) : 1010.6707251259509\n",
      "Minimum value for -2 log(Lkl) : 1011.3218502779519\n",
      "Minimum value for -2 log(Lkl) : 1011.9746110503385\n",
      "Minimum value for -2 log(Lkl) : 1012.6245494104713\n",
      "Minimum value for -2 log(Lkl) : 1012.5045518476704\n",
      "Minimum value for -2 log(Lkl) : 1011.8818088524469\n",
      "Minimum value for -2 log(Lkl) : 1011.2582703480089\n",
      "Minimum value for -2 log(Lkl) : 1010.6312812733593\n",
      "Minimum value for -2 log(Lkl) : 1009.9978914660213\n",
      "Minimum value for -2 log(Lkl) : 1009.3541050607959\n",
      "CPU times: user 5.55 s, sys: 80.7 ms, total: 5.63 s\n",
      "Wall time: 5.9 s\n"
     ]
    }
   ],
   "source": [
    "%%time\n",
    "\n",
    "F_I_guess    = np.ones_like(LIV_class.t_left)\n",
    "N        = len(F_I_guess)\n",
    "bounds   = [(1e-100,None) for kk in range(N)]\n",
    "\n",
    "\n",
    "\n",
    "all_guess = []\n",
    "all_loglkl_min = []\n",
    "all_eta        =  np.linspace(-60,40,15)*u.s/u.TeV  #np.linspace(-50,50,15)*u.s/u.TeV + 0*u.s/u.TeV\n",
    "for eta in all_eta :\n",
    "    LIV_class.update_eta(eta)\n",
    "    LIV_class.minimize_loglkl( guess=F_I_guess, bounds=bounds)\n",
    "    loglkl_min = LIV_class.loglkl_min\n",
    "    all_loglkl_min.append( loglkl_min )\n",
    "    all_guess.append( LIV_class.solution.x)"
   ]
  },
  {
   "cell_type": "markdown",
   "id": "af2a160a-ca35-46dc-b3cd-99893930de03",
   "metadata": {},
   "source": [
    "# Plot $-2 \\Delta \\log \\mathcal{L} $"
   ]
  },
  {
   "cell_type": "code",
   "execution_count": 13,
   "id": "15045c9e-7f13-44da-a312-fc8beb1bd5e7",
   "metadata": {},
   "outputs": [
    {
     "data": {
      "text/plain": [
       "<matplotlib.collections.LineCollection at 0x7f0a33a358d0>"
      ]
     },
     "execution_count": 13,
     "metadata": {},
     "output_type": "execute_result"
    },
    {
     "data": {
      "image/png": "[encoded data removed]",
      "text/plain": [
       "<Figure size 2000x1000 with 1 Axes>"
      ]
     },
     "metadata": {},
     "output_type": "display_data"
    }
   ],
   "source": [
    "matplotlib.rcParams['text.usetex'] = False\n",
    "\n",
    "fig, ax = plt.subplots( 1,1,figsize=(20,10))\n",
    "\n",
    "ax.set_xlabel(r'$\\eta_1$   [s/TeV]')\n",
    "ax.set_ylabel(r'$ -2\\;  \\Delta \\; \\log( \\mathcal{L} ) $')\n",
    "\n",
    "\n",
    "plt.plot(all_eta,np.abs(all_loglkl_min- np.max(all_loglkl_min)), c='k', linewidth=3 , alpha=0.6)\n",
    "plt.hlines( [1,3.8], xmin= all_eta.min().value, xmax=all_eta.max().value,color='k', alpha =0.5)\n"
   ]
  },
  {
   "cell_type": "markdown",
   "id": "b352c080-f9cd-4e00-9128-c236cb53b47e",
   "metadata": {},
   "source": [
    "# Plot $F_I$ on top of the observed excess in time"
   ]
  },
  {
   "cell_type": "code",
   "execution_count": 14,
   "id": "068ce6b1-58e8-49a3-9f50-ee89482f5979",
   "metadata": {},
   "outputs": [
    {
     "data": {
      "text/plain": [
       "<ErrorbarContainer object of 3 artists>"
      ]
     },
     "execution_count": 14,
     "metadata": {},
     "output_type": "execute_result"
    },
    {
     "data": {
      "image/png": "[encoded data removed]",
      "text/plain": [
       "<Figure size 2000x1000 with 1 Axes>"
      ]
     },
     "metadata": {},
     "output_type": "display_data"
    }
   ],
   "source": [
    "\n",
    "binwidth       = t[1:]-t[:-1]\n",
    "bincenters     = (t[1:]+t[:-1])/2\n",
    "\n",
    "LC_intr        = (n_on.T.sum(axis=0) - n_off.T.sum(axis=0)/3)/binwidth \n",
    "LC_intr_unc    = np.sqrt( (n_on.T.sum(axis=0) + n_off.T.sum(axis=0)*(1/3)**2) ) /binwidth \n",
    "fig , ax = plt.subplots(figsize=(20,10))\n",
    "\n",
    "x = all_guess[1]\n",
    "plt.plot(bincenters.value,x, marker='.')\n",
    "\n",
    "#x = all_guess[-1]\n",
    "#plt.plot(bincenters.value,x, marker='.')\n",
    "\n",
    "ax.set_ylabel(r' rate [ 1/seconds] ',size=15)\n",
    "ax.set_xlabel('time [s]',size=15)\n",
    "ax.errorbar(bincenters.value, LC_intr.value, LC_intr_unc.value ,binwidth.value/2,fmt='o', elinewidth=2, markersize=5, capsize=4)"
   ]
  },
  {
   "cell_type": "code",
   "execution_count": 29,
   "id": "668e0335-c797-45c3-891d-23357c2a7ad3",
   "metadata": {},
   "outputs": [],
   "source": [
    "# NERONOV DELAY \n",
    "\n",
    "#eta est note retard, il faut l'ecrire en fonction de z, B. Changer aussi la dependance en E-5/2 \n",
    "\n",
    "from scipy.integrate import quad\n",
    "from scipy.integrate import cumtrapz, quad\n",
    "from scipy.interpolate import interp1d\n",
    "from scipy.optimize import root_scalar\n",
    "\n",
    "# Cosmological constant and parameters \n",
    "H0 = 71 * u.km / u.s / u.Mpc\n",
    "Omega_M = 0.27\n",
    "Omega_A = 0.73\n",
    "c = 299792.458 * u.km/u.s  # speed of light\n",
    "a0 = 1  \n",
    "\n",
    "# Parameters \n",
    "E_y0 = 100 * u.TeV \n",
    "z_E = 0.012 \n",
    "#z = \n",
    "delta = 1e-4 \n",
    "theta = 1e-4  \n",
    "angle = delta + theta\n",
    "#t0 = "
   ]
  },
  {
   "cell_type": "code",
   "execution_count": 44,
   "id": "b39344fd-d431-42db-a86b-50c6aff6b212",
   "metadata": {},
   "outputs": [
    {
     "name": "stdout",
     "output_type": "stream",
     "text": [
      " redshift of emission : 0.012\n",
      "redshift of interaction of the primary gamma :  0.012000000000000002\n"
     ]
    }
   ],
   "source": [
    "# Compute t_yy \n",
    "def dt_dz(z):\n",
    "    return 1.0 / (H0 * (1 + z) * np.sqrt(Omega_M * (1 + z)**3 + Omega_A))\n",
    "def D_y(z):\n",
    "    return ((40*u.Mpc)*( 1/ ( 1+z)**2 ) * ( E_y0 /( 20 *u.TeV)) **-1 )\n",
    "def integrand(z):\n",
    "    return dt_dz(z).to(u.s).value / D_y(z).to(u.Mpc).value   \n",
    "def eq21(z_yy):\n",
    "    result, _ = quad(integrand, z_E, z_yy)\n",
    "    return result - 1  \n",
    "\n",
    "sol = root_scalar(eq21, bracket=[z_E+1e-18, 1], method='brentq')\n",
    "z_yy = sol.root\n",
    "print(\"redshift of emission :\", z_E) \n",
    "print( \"redshift of interaction of the primary gamma : \", z_yy)  "
   ]
  },
  {
   "cell_type": "code",
   "execution_count": 46,
   "id": "5bc5c96b-f95c-43e9-9c98-f8d06dea9f82",
   "metadata": {},
   "outputs": [
    {
     "data": {
      "image/png": "[encoded data removed]",
      "text/plain": [
       "<Figure size 640x480 with 1 Axes>"
      ]
     },
     "metadata": {},
     "output_type": "display_data"
    }
   ],
   "source": [
    "import matplotlib.pyplot as plt\n",
    "\n",
    "zs = np.linspace(0, 5, 500)\n",
    "ys = [eq21(z) for z in zs]\n",
    "\n",
    "plt.plot(zs, ys)\n",
    "plt.axhline(0, color='red', linestyle='--')\n",
    "plt.xlabel(\"z\")\n",
    "plt.ylabel(\"eq21(z)\")\n",
    "plt.grid(True)\n",
    "plt.show()"
   ]
  },
  {
   "cell_type": "code",
   "execution_count": 49,
   "id": "36f5d7be-992b-4228-b70c-1295e0aeaeaa",
   "metadata": {},
   "outputs": [
    {
     "name": "stdout",
     "output_type": "stream",
     "text": [
      "5171574896766650.0 s\n"
     ]
    },
    {
     "ename": "UnitConversionError",
     "evalue": "Can only apply 'subtract' function to dimensionless quantities when other argument is not a quantity (unless the latter is all zero/infinity/nan).",
     "output_type": "error",
     "traceback": [
      "\u001b[0;31m---------------------------------------------------------------------------\u001b[0m",
      "\u001b[0;31mUnitConversionError\u001b[0m                       Traceback (most recent call last)",
      "Cell \u001b[0;32mIn[49], line 7\u001b[0m\n\u001b[1;32m      4\u001b[0m \u001b[38;5;28mprint\u001b[39m(t_E) \n\u001b[1;32m      6\u001b[0m t_y, _ \u001b[38;5;241m=\u001b[39m quad(\u001b[38;5;28;01mlambda\u001b[39;00m z: dt_dz(z)\u001b[38;5;241m.\u001b[39mto(u\u001b[38;5;241m.\u001b[39ms)\u001b[38;5;241m.\u001b[39mvalue, \u001b[38;5;241m0\u001b[39m, z_yy) \n\u001b[0;32m----> 7\u001b[0m t_yy \u001b[38;5;241m=\u001b[39m \u001b[43mt_y\u001b[49m\u001b[43m \u001b[49m\u001b[38;5;241;43m-\u001b[39;49m\u001b[43m \u001b[49m\u001b[43mt_E\u001b[49m \n\u001b[1;32m      8\u001b[0m \u001b[38;5;28mprint\u001b[39m(z_yy, t_yy) \n",
      "File \u001b[0;32m~/.conda/envs/lst-dev2/lib/python3.11/site-packages/astropy/units/quantity.py:691\u001b[0m, in \u001b[0;36mQuantity.__array_ufunc__\u001b[0;34m(self, function, method, *inputs, **kwargs)\u001b[0m\n\u001b[1;32m    689\u001b[0m     \u001b[38;5;28;01mreturn\u001b[39;00m \u001b[38;5;28mNotImplemented\u001b[39m\n\u001b[1;32m    690\u001b[0m \u001b[38;5;28;01melse\u001b[39;00m:\n\u001b[0;32m--> 691\u001b[0m     \u001b[38;5;28;01mraise\u001b[39;00m e\n",
      "File \u001b[0;32m~/.conda/envs/lst-dev2/lib/python3.11/site-packages/astropy/units/quantity.py:636\u001b[0m, in \u001b[0;36mQuantity.__array_ufunc__\u001b[0;34m(self, function, method, *inputs, **kwargs)\u001b[0m\n\u001b[1;32m    631\u001b[0m \u001b[38;5;66;03m# Determine required conversion functions -- to bring the unit of the\u001b[39;00m\n\u001b[1;32m    632\u001b[0m \u001b[38;5;66;03m# input to that expected (e.g., radian for np.sin), or to get\u001b[39;00m\n\u001b[1;32m    633\u001b[0m \u001b[38;5;66;03m# consistent units between two inputs (e.g., in np.add) --\u001b[39;00m\n\u001b[1;32m    634\u001b[0m \u001b[38;5;66;03m# and the unit of the result (or tuple of units for nout > 1).\u001b[39;00m\n\u001b[1;32m    635\u001b[0m \u001b[38;5;28;01mtry\u001b[39;00m:\n\u001b[0;32m--> 636\u001b[0m     converters, unit \u001b[38;5;241m=\u001b[39m \u001b[43mconverters_and_unit\u001b[49m\u001b[43m(\u001b[49m\u001b[43mfunction\u001b[49m\u001b[43m,\u001b[49m\u001b[43m \u001b[49m\u001b[43mmethod\u001b[49m\u001b[43m,\u001b[49m\u001b[43m \u001b[49m\u001b[38;5;241;43m*\u001b[39;49m\u001b[43minputs\u001b[49m\u001b[43m)\u001b[49m\n\u001b[1;32m    638\u001b[0m     out \u001b[38;5;241m=\u001b[39m kwargs\u001b[38;5;241m.\u001b[39mget(\u001b[38;5;124m\"\u001b[39m\u001b[38;5;124mout\u001b[39m\u001b[38;5;124m\"\u001b[39m, \u001b[38;5;28;01mNone\u001b[39;00m)\n\u001b[1;32m    639\u001b[0m     \u001b[38;5;66;03m# Avoid loop back by turning any Quantity output into array views.\u001b[39;00m\n",
      "File \u001b[0;32m~/.conda/envs/lst-dev2/lib/python3.11/site-packages/astropy/units/quantity_helper/converters.py:199\u001b[0m, in \u001b[0;36mconverters_and_unit\u001b[0;34m(function, method, *args)\u001b[0m\n\u001b[1;32m    197\u001b[0m             converters[i] \u001b[38;5;241m=\u001b[39m \u001b[38;5;28;01mNone\u001b[39;00m\n\u001b[1;32m    198\u001b[0m         \u001b[38;5;28;01melse\u001b[39;00m:\n\u001b[0;32m--> 199\u001b[0m             \u001b[38;5;28;01mraise\u001b[39;00m UnitConversionError(\n\u001b[1;32m    200\u001b[0m                 \u001b[38;5;124mf\u001b[39m\u001b[38;5;124m\"\u001b[39m\u001b[38;5;124mCan only apply \u001b[39m\u001b[38;5;124m'\u001b[39m\u001b[38;5;132;01m{\u001b[39;00mfunction\u001b[38;5;241m.\u001b[39m\u001b[38;5;18m__name__\u001b[39m\u001b[38;5;132;01m}\u001b[39;00m\u001b[38;5;124m'\u001b[39m\u001b[38;5;124m function to \u001b[39m\u001b[38;5;124m\"\u001b[39m\n\u001b[1;32m    201\u001b[0m                 \u001b[38;5;124m\"\u001b[39m\u001b[38;5;124mdimensionless quantities when other argument is not \u001b[39m\u001b[38;5;124m\"\u001b[39m\n\u001b[1;32m    202\u001b[0m                 \u001b[38;5;124m\"\u001b[39m\u001b[38;5;124ma quantity (unless the latter is all zero/infinity/nan).\u001b[39m\u001b[38;5;124m\"\u001b[39m\n\u001b[1;32m    203\u001b[0m             )\n\u001b[1;32m    204\u001b[0m \u001b[38;5;28;01mexcept\u001b[39;00m \u001b[38;5;167;01mTypeError\u001b[39;00m:\n\u001b[1;32m    205\u001b[0m     \u001b[38;5;66;03m# _can_have_arbitrary_unit failed: arg could not be compared\u001b[39;00m\n\u001b[1;32m    206\u001b[0m     \u001b[38;5;66;03m# with zero or checked to be finite. Then, ufunc will fail too.\u001b[39;00m\n\u001b[1;32m    207\u001b[0m     \u001b[38;5;28;01mraise\u001b[39;00m \u001b[38;5;167;01mTypeError\u001b[39;00m(\n\u001b[1;32m    208\u001b[0m         \u001b[38;5;124m\"\u001b[39m\u001b[38;5;124mUnsupported operand type(s) for ufunc \u001b[39m\u001b[38;5;132;01m{}\u001b[39;00m\u001b[38;5;124m: \u001b[39m\u001b[38;5;124m'\u001b[39m\u001b[38;5;132;01m{}\u001b[39;00m\u001b[38;5;124m'\u001b[39m\u001b[38;5;124m\"\u001b[39m\u001b[38;5;241m.\u001b[39mformat(\n\u001b[1;32m    209\u001b[0m             function\u001b[38;5;241m.\u001b[39m\u001b[38;5;18m__name__\u001b[39m,\n\u001b[1;32m    210\u001b[0m             \u001b[38;5;124m\"\u001b[39m\u001b[38;5;124m,\u001b[39m\u001b[38;5;124m\"\u001b[39m\u001b[38;5;241m.\u001b[39mjoin([arg\u001b[38;5;241m.\u001b[39m\u001b[38;5;18m__class__\u001b[39m\u001b[38;5;241m.\u001b[39m\u001b[38;5;18m__name__\u001b[39m \u001b[38;5;28;01mfor\u001b[39;00m arg \u001b[38;5;129;01min\u001b[39;00m args]),\n\u001b[1;32m    211\u001b[0m         )\n\u001b[1;32m    212\u001b[0m     )\n",
      "\u001b[0;31mUnitConversionError\u001b[0m: Can only apply 'subtract' function to dimensionless quantities when other argument is not a quantity (unless the latter is all zero/infinity/nan)."
     ]
    }
   ],
   "source": [
    "#Compute t_E \n",
    "t_E, _ = quad(lambda z: dt_dz(z).to(u.s).value, 0, z_E) \n",
    "t_E = t_E * u.s\n",
    "print(t_E)"
   ]
  },
  {
   "cell_type": "code",
   "execution_count": null,
   "id": "ff2e0991-168e-4efb-9d46-5d2f4ee60e14",
   "metadata": {},
   "outputs": [],
   "source": [
    "#compute t_cascade\n",
    "def comoving_distance(z):\n",
    "    integrand = lambda z: 1.0 / np.sqrt(Omega_M * (1 + z)**3 + Omega_A)\n",
    "    integral, _ = quad(integrand, 0, z)\n",
    "    return (c / H0) * integral\n",
    "\n",
    "d_E = comoving_distance(z_E)\n",
    "d_yy = comoving_distance(z_yy)\n",
    "\n",
    "z_array = np.linspace(0, 10, 10000)\n",
    "dt_dz_vals = np.array([dt_dz(z).to(u.s).value for z in z_array])  # seconds\n",
    "t_array = cumtrapz(dt_dz_vals, z_array, initial=0)  # seconds since Big Bang\n",
    "\n",
    "t0 = t_array[-1] * u.s\n",
    "z_of_t = interp1d(t_array, z_array, kind='cubic', fill_value='extrapolate')\n",
    "\n",
    "def a_t(t_sec):\n",
    "    z = z_of_t(t_sec)\n",
    "    return 1.0 / (1.0 + z)\n",
    "\n",
    "def integral_dt_over_a(t_cascade_sec):\n",
    "    t_min = t0.to(u.s).value - t_cascade_sec\n",
    "    t_max = t0.to(u.s).value\n",
    "\n",
    "    t_vals = np.linspace(t_min, t_max, 1000)\n",
    "    a_vals = a_t(t_vals)\n",
    "\n",
    "    integrand = 1 / a_vals\n",
    "    integral = np.trapz(integrand, t_vals)  # seconds\n",
    "\n",
    "    return integral * u.s\n",
    "\n",
    "\n",
    "def equation_to_solve(t_cascade_sec):\n",
    "    return integral_dt_over_a(t_cascade_sec).value - Δr_sec.value\n",
    "\n",
    "sol = root_scalar(equation_to_solve, bracket=[1e11, 5e17], method='brentq')\n",
    "\n",
    "if sol.converged:\n",
    "    t_cascade = sol.root * u.s\n",
    "    print(f\" t_cascade ≈ {t_cascade.to(u.Myr):.3f}\")\n",
    "else:\n",
    "    print(\" La résolution de t_cascade a échoué.\")\n",
    "\n",
    "############################\n",
    "#we have assumed tau_0 > 1, delta <<1\n",
    "#z_yy ~ z_E = z \n",
    "#z<<1 ( numerical limit ) \n",
    "#Eq ( 40 ), but we need the formula for z~1 too"
   ]
  }
 ],
 "metadata": {
  "kernelspec": {
   "display_name": "Python 3 (ipykernel)",
   "language": "python",
   "name": "python3"
  },
  "language_info": {
   "codemirror_mode": {
    "name": "ipython",
    "version": 3
   },
   "file_extension": ".py",
   "mimetype": "text/x-python",
   "name": "python",
   "nbconvert_exporter": "python",
   "pygments_lexer": "ipython3",
   "version": "3.11.11"
  }
 },
 "nbformat": 4,
 "nbformat_minor": 5
}
